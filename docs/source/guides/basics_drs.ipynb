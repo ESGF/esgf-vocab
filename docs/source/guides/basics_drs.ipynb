{
 "cells": [
  {
   "cell_type": "markdown",
   "id": "21fbefad-5a83-4ca2-9711-0ea7575ce5dc",
   "metadata": {},
   "source": [
    "# DRS applications tutorial"
   ]
  },
  {
   "cell_type": "markdown",
   "id": "f12d185f-8e72-4ece-b1f0-77384e2dae2e",
   "metadata": {},
   "source": [
    "The following DRS applications are mainly based on the validation functions seen in the API tutorial."
   ]
  },
  {
   "cell_type": "markdown",
   "id": "c3494071-75af-43af-bae9-eefdc98a92ed",
   "metadata": {},
   "source": [
    "## Imports"
   ]
  },
  {
   "cell_type": "code",
   "execution_count": 1,
   "id": "fb4b6ad5-37cb-42ae-9ea2-011fa33a0d63",
   "metadata": {},
   "outputs": [],
   "source": [
    "import esgvoc"
   ]
  },
  {
   "cell_type": "markdown",
   "id": "d1d3858f-b465-40d6-8b5b-d5a34abd3d8d",
   "metadata": {},
   "source": [
    "## DRS validation\n",
    "\n",
    "The DRS validation is the process to validate an character expression against a DRS specification of a project."
   ]
  },
  {
   "cell_type": "markdown",
   "id": "5721cd5c-b0c7-4fa3-b6da-e19cd95e4810",
   "metadata": {},
   "source": [
    "### Instantiation"
   ]
  },
  {
   "cell_type": "markdown",
   "id": "8836fc63-f19f-4046-a899-3869420307d5",
   "metadata": {},
   "source": [
    "Import the validator class:"
   ]
  },
  {
   "cell_type": "code",
   "execution_count": 2,
   "id": "c5d0b62e-9a81-47ee-9c0f-53090c6148eb",
   "metadata": {},
   "outputs": [],
   "source": [
    "from esgvoc.apps.drs.validator import DrsValidator"
   ]
  },
  {
   "cell_type": "markdown",
   "id": "b77918b3-db2c-47f7-a352-6538c5780919",
   "metadata": {},
   "source": [
    "Instanciate a validator object, for example the CMIP6Plus CV:"
   ]
  },
  {
   "cell_type": "code",
   "execution_count": 3,
   "id": "ddad12f3-1555-4a1a-be1a-145d3b2ee70c",
   "metadata": {},
   "outputs": [],
   "source": [
    "validator = DrsValidator(project_id=\"cmip6plus\")"
   ]
  },
  {
   "cell_type": "markdown",
   "id": "3de695b7-6f2d-4615-a46e-f927265a67fd",
   "metadata": {},
   "source": [
    "### Validation methods"
   ]
  },
  {
   "cell_type": "markdown",
   "id": "19ac3329-5469-4e1e-9bf3-9bb1e10e61a0",
   "metadata": {},
   "source": [
    "Check the compliance of a DRS expression. For example a dataset id:"
   ]
  },
  {
   "cell_type": "code",
   "execution_count": 4,
   "id": "0e4bd460-caab-4296-9011-73aecb9078af",
   "metadata": {},
   "outputs": [
    {
     "data": {
      "text/plain": [
       "'CMIP6Plus.CMIP.IPSL.MIROC6.amip.r2i2p1f2.ACmon.od550aer.gn' has 0 error(s) and 0 warning(s)"
      ]
     },
     "execution_count": 4,
     "metadata": {},
     "output_type": "execute_result"
    }
   ],
   "source": [
    "validator.validate_dataset_id(drs_expression=\"CMIP6Plus.CMIP.IPSL.MIROC6.amip.r2i2p1f2.ACmon.od550aer.gn\")"
   ]
  },
  {
   "cell_type": "markdown",
   "id": "0a8b2d8e-3ad9-411e-bf2d-86dbc1b13523",
   "metadata": {},
   "source": [
    "You can also check directories and file names:"
   ]
  },
  {
   "cell_type": "code",
   "execution_count": 5,
   "id": "2afde72f-3704-4ce3-aed5-00e0cf08bd3c",
   "metadata": {},
   "outputs": [
    {
     "data": {
      "text/plain": [
       "'CMIP6Plus/CMIP/NCC/MIROC6/amip/r2i2p1f2/ACmon/od550aer/gn/v20190923' has 0 error(s) and 0 warning(s)"
      ]
     },
     "execution_count": 5,
     "metadata": {},
     "output_type": "execute_result"
    }
   ],
   "source": [
    "validator.validate_directory(drs_expression=\"CMIP6Plus/CMIP/NCC/MIROC6/amip/r2i2p1f2/ACmon/od550aer/gn/v20190923\")"
   ]
  },
  {
   "cell_type": "code",
   "execution_count": 6,
   "id": "ef0f66a4-cc63-4dbb-9e8e-90e554fb06e2",
   "metadata": {},
   "outputs": [
    {
     "data": {
      "text/plain": [
       "'od550aer_ACmon_MIROC6_amip_r2i2p1f2_gn_201211-201212' has 0 error(s) and 0 warning(s)"
      ]
     },
     "execution_count": 6,
     "metadata": {},
     "output_type": "execute_result"
    }
   ],
   "source": [
    "validator.validate_file_name(drs_expression=\"od550aer_ACmon_MIROC6_amip_r2i2p1f2_gn_201211-201212.nc\")"
   ]
  },
  {
   "cell_type": "markdown",
   "id": "b57bd149-3f29-4909-9ebd-00665b6ed758",
   "metadata": {},
   "source": [
    "The last one depends of the DRS type:"
   ]
  },
  {
   "cell_type": "code",
   "execution_count": 7,
   "id": "64dd64fa-4e1d-457a-96e8-eb7a120992e9",
   "metadata": {},
   "outputs": [
    {
     "data": {
      "text/plain": [
       "'CMIP6Plus.CMIP.IPSL.MIROC6.amip.r2i2p1f2.ACmon.od550aer.gn' has 0 error(s) and 0 warning(s)"
      ]
     },
     "execution_count": 7,
     "metadata": {},
     "output_type": "execute_result"
    }
   ],
   "source": [
    "validator.validate(drs_expression=\"CMIP6Plus.CMIP.IPSL.MIROC6.amip.r2i2p1f2.ACmon.od550aer.gn\", type='dataset_id')"
   ]
  },
  {
   "cell_type": "markdown",
   "id": "777b4f9c-5ad6-4484-81fd-c59fc07cfe9e",
   "metadata": {},
   "source": [
    "### Reporting"
   ]
  },
  {
   "cell_type": "markdown",
   "id": "01755537-e95a-4dd0-8724-dfb63ee130a8",
   "metadata": {},
   "source": [
    "The validator returns value is not a string, but a full report:"
   ]
  },
  {
   "cell_type": "code",
   "execution_count": 8,
   "id": "3d42f703-a6a3-4dea-8ffe-d67888eec494",
   "metadata": {},
   "outputs": [
    {
     "name": "stdout",
     "output_type": "stream",
     "text": [
      "valid\n"
     ]
    }
   ],
   "source": [
    "report = validator.validate_file_name(drs_expression=\"od550aer_ACmon_MIROC6_amip_r2i2p1f2_gn.nc\")\n",
    "if report:\n",
    "    print('valid')\n",
    "else:\n",
    "    print('unvalid')"
   ]
  },
  {
   "cell_type": "markdown",
   "id": "88aeb1dc-6f2c-432e-8a88-b80e372b70b3",
   "metadata": {},
   "source": [
    "And has any errors and warnings (missing period at the end of the file name). See the full API documentation [here](https://esgf.github.io/esgf-vocab/api_documentation/drs.html#esgvoc.apps.drs.report.DrsValidationReport)."
   ]
  },
  {
   "cell_type": "code",
   "execution_count": 9,
   "id": "b07ac439-6904-4b66-8b84-684466917e96",
   "metadata": {},
   "outputs": [
    {
     "data": {
      "text/plain": [
       "[missing token for time_range at position 7]"
      ]
     },
     "execution_count": 9,
     "metadata": {},
     "output_type": "execute_result"
    }
   ],
   "source": [
    "report.warnings"
   ]
  },
  {
   "cell_type": "markdown",
   "id": "b9886b6b-baf1-444f-891f-766fafc911ca",
   "metadata": {},
   "source": [
    "The validator supports a wild range issues. Such as blank token:"
   ]
  },
  {
   "cell_type": "code",
   "execution_count": 10,
   "id": "21a3e570-2f05-4a99-ac75-7978285f903a",
   "metadata": {},
   "outputs": [
    {
     "name": "stdout",
     "output_type": "stream",
     "text": [
      "'CMIP6Plus/CMIP/ /NCC/MIROC6/amip/r2i2p1f2/ACmon/od550aer/gn/v20190923' has 1 error(s) and 0 warning(s)\n",
      "[blank token at column 16]\n"
     ]
    }
   ],
   "source": [
    "report = validator.validate_directory(drs_expression=\"CMIP6Plus/CMIP/ /NCC/MIROC6/amip/r2i2p1f2/ACmon/od550aer/gn/v20190923\")\n",
    "print(repr(report))\n",
    "print(report.errors)"
   ]
  },
  {
   "cell_type": "markdown",
   "id": "f03366bf-9b70-4a17-8638-17289a54f2e3",
   "metadata": {},
   "source": [
    "And of course an invalid term:"
   ]
  },
  {
   "cell_type": "code",
   "execution_count": 11,
   "id": "4a390ebd-86c2-487d-916a-e9602cdec09f",
   "metadata": {},
   "outputs": [
    {
     "name": "stdout",
     "output_type": "stream",
     "text": [
      "'CMIP6Plus/CMIP_ERROR_HERE/NCC/MIROC6/amip/r2i2p1f2/ACmon/od550aer/gn/v20190923' has 1 error(s) and 0 warning(s)\n",
      "[token 'CMIP_ERROR_HERE' not compliant with activity_id at position 2]\n"
     ]
    }
   ],
   "source": [
    "report = validator.validate_directory(drs_expression=\"CMIP6Plus/CMIP_ERROR_HERE/NCC/MIROC6/amip/r2i2p1f2/ACmon/od550aer/gn/v20190923\")\n",
    "print(repr(report))\n",
    "print(report.errors)"
   ]
  },
  {
   "cell_type": "markdown",
   "id": "3643f5ee-a11b-4bbb-a2b8-fd55ddfee003",
   "metadata": {},
   "source": [
    "The validation issues can be processed by implementing a [parser issue visitor](https://esgf.github.io/esgf-vocab/api_documentation/drs.html#esgvoc.apps.drs.report.ParserIssueVisitor) and a [validation issue visitor](https://esgf.github.io/esgf-vocab/api_documentation/drs.html#esgvoc.apps.drs.report.ValidationIssueVisitor):"
   ]
  },
  {
   "cell_type": "code",
   "execution_count": 14,
   "id": "6099ae83-8040-4dbe-8919-cc719bdd517b",
   "metadata": {},
   "outputs": [
    {
     "name": "stdout",
     "output_type": "stream",
     "text": [
      "Doing something automatically with a invalid token issue, other than printing it\n"
     ]
    }
   ],
   "source": [
    "class MyValidationVisitor(esgvoc.apps.drs.report.ParserIssueVisitor):\n",
    "    def visit_invalid_token_issue(self, issue):\n",
    "        print(f'Doing something automatically with a invalid token issue, other than printing it')\n",
    "    # You should implement the other methods of ParserIssueVisitor and ValidatorIssueVisitor too!\n",
    "\n",
    "my_visitor = MyValidationVisitor()\n",
    "report.errors[0].accept(my_visitor)"
   ]
  },
  {
   "cell_type": "markdown",
   "id": "fce9da54-7180-42a1-b0d0-1f2432ff88a7",
   "metadata": {},
   "source": [
    "## DRS generation"
   ]
  },
  {
   "cell_type": "markdown",
   "id": "d7e4c7ab-8578-4153-8fe8-e049f0febeaa",
   "metadata": {},
   "source": [
    "The DRS generation consists of generate a DRS expression from an unordered mapping of collections and tokens or a bag of unordered tokens."
   ]
  },
  {
   "cell_type": "markdown",
   "id": "99408aec-6c7b-4c8d-8c6f-49da1f06a4b8",
   "metadata": {},
   "source": [
    "### Instantiation"
   ]
  },
  {
   "cell_type": "markdown",
   "id": "7ac88bfd-91f9-41c2-9973-e1d1e636df30",
   "metadata": {},
   "source": [
    "Import the generator class:"
   ]
  },
  {
   "cell_type": "code",
   "execution_count": 17,
   "id": "eb1a1129-8655-433b-af24-a409f171a0f8",
   "metadata": {},
   "outputs": [],
   "source": [
    "from esgvoc.apps.drs.generator import DrsGenerator"
   ]
  },
  {
   "cell_type": "markdown",
   "id": "769f5c56-5391-4157-86fe-1169f875a858",
   "metadata": {},
   "source": [
    "Instanciate a generator object, for example the CMIP6Plus CV:"
   ]
  },
  {
   "cell_type": "code",
   "execution_count": 18,
   "id": "53183ecd-4bfd-4fbb-81b4-cf8029c83308",
   "metadata": {},
   "outputs": [],
   "source": [
    "generator = DrsGenerator(\"cmip6plus\")"
   ]
  },
  {
   "cell_type": "markdown",
   "id": "9314caff-8fbf-4fda-8b06-8d8dc90d42fe",
   "metadata": {},
   "source": [
    "### Mapping"
   ]
  },
  {
   "cell_type": "markdown",
   "id": "c2455012-e8ce-44c7-9bee-19ffc4fe480f",
   "metadata": {},
   "source": [
    "Build a dictionary that maps tokens with their collections:"
   ]
  },
  {
   "cell_type": "code",
   "execution_count": 26,
   "id": "1cafde2f-654b-48c9-8de8-c8606e04e70b",
   "metadata": {},
   "outputs": [],
   "source": [
    "mapping = {\n",
    "    'member_id': 'r2i2p1f2',\n",
    "    'activity_id': 'CMIP',\n",
    "    'source_id': 'MIROC6',\n",
    "    'mip_era': 'CMIP6Plus',\n",
    "    'experiment_id': 'amip',\n",
    "    'variable_id': 'od550aer',\n",
    "    'table_id': 'ACmon',\n",
    "    'grid_label': 'gn',\n",
    "    'version': 'v20190923',\n",
    "    'institution_id': 'IPSL',\n",
    "    'extra_information': 'some_value'\n",
    "}"
   ]
  },
  {
   "cell_type": "markdown",
   "id": "210aab4c-4f71-4566-8215-d9bc5df305f5",
   "metadata": {},
   "source": [
    "Then generate a DRS directory expression:"
   ]
  },
  {
   "cell_type": "code",
   "execution_count": 28,
   "id": "3bb26cac-59a5-4097-a334-bba61ed57466",
   "metadata": {},
   "outputs": [
    {
     "data": {
      "text/plain": [
       "'CMIP6Plus/CMIP/IPSL/MIROC6/amip/r2i2p1f2/ACmon/od550aer/gn/v20190923' has 0 error(s) and 0 warning(s)"
      ]
     },
     "execution_count": 28,
     "metadata": {},
     "output_type": "execute_result"
    }
   ],
   "source": [
    "generator.generate_directory_from_mapping(mapping=mapping)"
   ]
  },
  {
   "cell_type": "markdown",
   "id": "3fed194f-3f03-4301-a06a-172797cb202f",
   "metadata": {},
   "source": [
    "It has successfully generate the directory expression, even if the mapping has some extra information (quite the opposite of the DRS validation). The same mapping can also generate the associated dataset id and file name expressions, *provided it has enough information!*"
   ]
  },
  {
   "cell_type": "code",
   "execution_count": 30,
   "id": "e8e153e7-ac5c-40a7-be9d-e697b6e3eb21",
   "metadata": {},
   "outputs": [
    {
     "data": {
      "text/plain": [
       "'CMIP6Plus.CMIP.IPSL.MIROC6.amip.r2i2p1f2.ACmon.od550aer.gn' has 0 error(s) and 0 warning(s)"
      ]
     },
     "execution_count": 30,
     "metadata": {},
     "output_type": "execute_result"
    }
   ],
   "source": [
    "generator.generate_dataset_id_from_mapping(mapping=mapping)"
   ]
  },
  {
   "cell_type": "code",
   "execution_count": 32,
   "id": "7b5a95e6-826c-4e8f-9805-c84fd0fd9e0f",
   "metadata": {},
   "outputs": [
    {
     "data": {
      "text/plain": [
       "'od550aer_ACmon_MIROC6_amip_r2i2p1f2_gn.nc' has 0 error(s) and 1 warning(s)"
      ]
     },
     "execution_count": 32,
     "metadata": {},
     "output_type": "execute_result"
    }
   ],
   "source": [
    "generator.generate_file_name_from_mapping(mapping=mapping) # This one has a warning because the period is missing."
   ]
  }
 ],
 "metadata": {
  "kernelspec": {
   "display_name": "esgvoc",
   "language": "python",
   "name": "esgvoc"
  },
  "language_info": {
   "codemirror_mode": {
    "name": "ipython",
    "version": 3
   },
   "file_extension": ".py",
   "mimetype": "text/x-python",
   "name": "python",
   "nbconvert_exporter": "python",
   "pygments_lexer": "ipython3",
   "version": "3.12.7"
  }
 },
 "nbformat": 4,
 "nbformat_minor": 5
}
